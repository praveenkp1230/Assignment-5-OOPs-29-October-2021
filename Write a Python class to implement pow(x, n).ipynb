{
 "cells": [
  {
   "cell_type": "code",
   "execution_count": 10,
   "id": "0d7b63b4",
   "metadata": {},
   "outputs": [
    {
     "name": "stdout",
     "output_type": "stream",
     "text": [
      "100\n"
     ]
    }
   ],
   "source": [
    "def power(x, n):\n",
    "    if (n == 0): return 1\n",
    "    elif (int(n % 2) == 0):\n",
    "        return (power(x, int(n / 2)) *\n",
    "                power(x, int(n / 2)))\n",
    "    else:\n",
    "        return (x * power(x, int(n / 2)) *\n",
    "                power(x, int(n / 2)))\n",
    "\n",
    "x = 10; n = 2\n",
    "print(power(x, n))"
   ]
  },
  {
   "cell_type": "code",
   "execution_count": null,
   "id": "015abbd0",
   "metadata": {},
   "outputs": [],
   "source": []
  }
 ],
 "metadata": {
  "kernelspec": {
   "display_name": "Python 3 (ipykernel)",
   "language": "python",
   "name": "python3"
  },
  "language_info": {
   "codemirror_mode": {
    "name": "ipython",
    "version": 3
   },
   "file_extension": ".py",
   "mimetype": "text/x-python",
   "name": "python",
   "nbconvert_exporter": "python",
   "pygments_lexer": "ipython3",
   "version": "3.9.6"
  }
 },
 "nbformat": 4,
 "nbformat_minor": 5
}
